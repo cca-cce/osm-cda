{
  "cells": [
    {
      "cell_type": "markdown",
      "metadata": {},
      "source": [
        "---\n",
        "title: \"Workshop 241022\"\n",
        "---\n",
        "\n",
        "Vi är ekonomer och HR-personal och de flesta kan väldigt lite om AI och använder det inte. I bästa fall använder några **ibland chatgpt eller copilot men inget systematiskt**. \n",
        "\n",
        "Jag skulle gärna vilja att ni **inspirerar oss 😊 och skapar nyfikenhet** så att vi kan börja hitta **områden där vi kan ta hjälp av AI**.\n",
        "\n",
        "- **Ekonomer** jobbar med tex. \n",
        "  - budget, \n",
        "  - uppföljning, \n",
        "  - prognoser, \n",
        "  - bokslut, \n",
        "  - forskningsbudget och redovisningar.\n",
        "- **HR** tex: \n",
        "  - rekryteringar (tex många ansökningar som ska gås igenom), \n",
        "  - anställningar, \n",
        "  - introduktion, \n",
        "  - arbetsmiljö.\n",
        "- **Administratörer** tex: \n",
        "  - reseräkningar och utlägg, \n",
        "  - ombokningar, \n",
        "  - anläggningsregister.\n",
        "- **Alla** jobbar med att \n",
        "  - söka info hos finansiärer, medarbetarwebben mm.\n",
        "\n",
        "## ai for admins\n",
        "\n",
        "- chat with your [spreadsheets](https://support.microsoft.com/en-us/office/analyze-data-in-excel-3223aab8-f543-4fda-85ed-76bb0295ffc4){target=\"_blank\"}\n",
        "- chat with your [text documents](https://notebooklm.google.com/){target=\"_blank\"}\n",
        "\n",
        "## lecture\n",
        "- oct 22 at 15-16 \n",
        "- nils 15.00-15.30, analytical ai\n",
        "- ilkin 15.30-16.00, generative ai\n",
        "- presentation slides\n",
        "- zoom projector presentation\n",
        "\n",
        "## workshop\n",
        "- oct 22 at 16-17\n",
        "- joint zoom meeting\n",
        "\n",
        "### analytical ai (nils)\n",
        "\n",
        "- [workshop spreadsheet](https://github.com/cca-cce/osm-cda/raw/refs/heads/main/csv/aiws-241022.xlsx)\n",
        "- [![Open In Colab](https://colab.research.google.com/assets/colab-badge.svg){width=30%}](https://colab.research.google.com/github/cca-cce/osm-cda/blob/main/web/aiws/aiws-241022.ipynb){target=\"_blank\"}"
      ]
    },
    {
      "cell_type": "code",
      "metadata": {},
      "source": [
        "import pandas as pd\n",
        "\n",
        "# try to replace 'aiws-241022.xlsx' with your own file name and sheet number\n",
        "df = pd.read_excel(\"https://github.com/cca-cce/osm-cda/raw/refs/heads/main/csv/aiws-241022.xlsx\", sheet_name=2)\n",
        "\n",
        "# Display the first few rows of the new DataFrame\n",
        "df.head()"
      ],
      "execution_count": null,
      "outputs": []
    },
    {
      "cell_type": "markdown",
      "metadata": {},
      "source": [
        "### generative ai (ilkin)\n",
        "\n",
        "## overview, ai for hr\n",
        "\n",
        "- get help by using [screenshots](https://chatgpt.com/){target=\"_blank\"}\n",
        "- use low-code [programming](aiws-241022.ipynb){target=\"_blank\"}\n",
        "\n",
        "## ai vs. automation\n"
      ]
    }
  ],
  "metadata": {
    "kernelspec": {
      "name": "python3",
      "language": "python",
      "display_name": "Python 3 (ipykernel)",
      "path": "/usr/local/share/jupyter/kernels/python3"
    }
  },
  "nbformat": 4,
  "nbformat_minor": 4
}