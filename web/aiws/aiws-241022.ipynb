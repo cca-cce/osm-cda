{
  "cells": [
    {
      "cell_type": "markdown",
      "metadata": {},
      "source": [
        "---\n",
        "title: \"Workshop 241022\"\n",
        "---\n",
        "\n",
        "Vi är ekonomer och HR-personal och de flesta kan väldigt lite om AI och använder det inte. I bästa fall använder några **ibland chatgpt eller copilot men inget systematiskt**. \n",
        "\n",
        "Jag skulle gärna vilja att ni **inspirerar oss 😊 och skapar nyfikenhet** så att vi kan börja hitta **områden där vi kan ta hjälp av AI**.\n",
        "\n",
        "- **Ekonomer** jobbar med tex. \n",
        "  - budget, \n",
        "  - uppföljning, \n",
        "  - prognoser, \n",
        "  - bokslut, \n",
        "  - forskningsbudget och redovisningar.\n",
        "- **HR** tex: \n",
        "  - rekryteringar (tex många ansökningar som ska gås igenom), \n",
        "  - anställningar, \n",
        "  - introduktion, \n",
        "  - arbetsmiljö.\n",
        "- **Administratörer** tex: \n",
        "  - reseräkningar och utlägg, \n",
        "  - ombokningar, \n",
        "  - anläggningsregister.\n",
        "- **Alla** jobbar med att \n",
        "  - söka info hos finansiärer, medarbetarwebben mm.\n",
        "\n",
        "## ai for admins\n",
        "\n",
        "- chat with your [spreadsheets](https://support.microsoft.com/en-us/office/analyze-data-in-excel-3223aab8-f543-4fda-85ed-76bb0295ffc4){target=\"_blank\"}\n",
        "- chat with your [text documents](https://notebooklm.google.com/){target=\"_blank\"}\n",
        "\n",
        "## lecture\n",
        "- oct 22 at 15-16 \n",
        "- nils 15.00-15.30, analytical ai\n",
        "- ilkin 15.30-16.00, generative ai\n",
        "- presentation slides\n",
        "- zoom projector presentation\n",
        "\n",
        "## workshop\n",
        "- oct 22 at 16-17\n",
        "- joint zoom meeting\n",
        "\n",
        "### analytical ai (nils)\n",
        "\n",
        "- [workshop spreadsheet](https://github.com/cca-cce/osm-cda/raw/refs/heads/main/csv/aiws-241022.xlsx)\n",
        "- log in to personal [google account](https://www.google.com/)\n",
        "- [![Open In Colab](https://colab.research.google.com/assets/colab-badge.svg){width=30%}](https://colab.research.google.com/github/cca-cce/osm-cda/blob/main/web/aiws/aiws-241022.ipynb){target=\"_blank\"}\n",
        "\n",
        "#### prompt: \n",
        "läs data från denna webb adress \"https://github.com/cca-cce/osm-cda/raw/refs/heads/main/csv/aiws-241022.xlsx\"; använd det tredje kalkylbladet för att skapa objektet df; visa sedan dom 15 första raderna i df"
      ]
    },
    {
      "cell_type": "code",
      "metadata": {},
      "source": [
        "import pandas as pd\n",
        "\n",
        "# Läs in det tredje kalkylbladet (sheet_name=2) från den angivna adressen\n",
        "df = pd.read_excel(\"https://github.com/cca-cce/osm-cda/raw/refs/heads/main/csv/aiws-241022.xlsx\", sheet_name=2)\n",
        "\n",
        "# Visa de 15 första raderna i df\n",
        "df.head(15)"
      ],
      "execution_count": null,
      "outputs": []
    },
    {
      "cell_type": "markdown",
      "metadata": {},
      "source": [
        "#### prompt: \n",
        "skapa en ny variabel \"Year_Categorical\" där värdet av \"Year\" representeras som en sträng och sortera raderna i stigande ordning efter denna variabel"
      ]
    },
    {
      "cell_type": "code",
      "metadata": {},
      "source": [
        "# Convert 'Year' to string and sort the DataFrame\n",
        "df['Year_Categorical'] = df['Year'].astype(str)\n",
        "df_sorted = df.sort_values('Year_Categorical')"
      ],
      "execution_count": null,
      "outputs": []
    },
    {
      "cell_type": "markdown",
      "metadata": {},
      "source": [
        "#### prompt: \n",
        "skapa ett nytt data objekt kallat \"mean_sales_by_year\" med medelvärde av \"Sales\" för varje värde av \"Year_Categorical\"; skapa sedan ett stapeldiagram som visar sambandet mellan medelvärde av \"Sales\" och \"Year_Categorical\""
      ]
    },
    {
      "cell_type": "code",
      "metadata": {},
      "source": [
        "# Calculate the mean sales for each year\n",
        "mean_sales_by_year = df_sorted.groupby('Year_Categorical')['Sales'].mean()\n",
        "\n",
        "# Create a bar chart\n",
        "import matplotlib.pyplot as plt\n",
        "\n",
        "plt.figure(figsize=(10, 6))\n",
        "plt.bar(mean_sales_by_year.index, mean_sales_by_year.values)\n",
        "plt.xlabel('Year')\n",
        "plt.ylabel('Mean Sales')\n",
        "plt.title('Mean Sales by Year')\n",
        "plt.show()"
      ],
      "execution_count": null,
      "outputs": []
    },
    {
      "cell_type": "markdown",
      "metadata": {},
      "source": [
        "#### prompt: \n",
        "undersök om det finns ett statistiskt säkerställt samband mellan medelvärde av \"Sales\" och \"Year\" representerat som numerisk variabel; förklara styrkan och riktningen på sambandet"
      ]
    },
    {
      "cell_type": "code",
      "metadata": {},
      "source": [
        "import pandas as pd\n",
        "import statsmodels.formula.api as sm\n",
        "import matplotlib.pyplot as plt\n",
        "\n",
        "# Utför en regressionsanalys för att undersöka sambandet mellan Sales och Year\n",
        "model = sm.ols('Sales ~ Year', data=df).fit()\n",
        "\n",
        "# Förklara styrkan och riktningen på sambandet baserat på regressionsresultatet\n",
        "if model.pvalues['Year'] < 0.05:\n",
        "  print(\"Det finns ett statistiskt säkerställt samband mellan medelvärdet av Sales och Year.\")\n",
        "  if model.params['Year'] > 0:\n",
        "    print(\"Sambandet är positivt, vilket innebär att högre värden på Year tenderar att korrelera med högre medelvärden på Sales.\")\n",
        "  else:\n",
        "    print(\"Sambandet är negativt, vilket innebär att högre värden på Year tenderar att korrelera med lägre medelvärden på Sales.\")\n",
        "\n",
        "  # Beräkna korrelationskoefficienten för att mäta styrkan på sambandet\n",
        "  correlation = df['Sales'].corr(df['Year'])\n",
        "  print(f\"Korrelationskoefficienten är: {correlation}\")\n",
        "\n",
        "  if abs(correlation) >= 0.7:\n",
        "    print(\"Sambandet är starkt.\")\n",
        "  elif abs(correlation) >= 0.3:\n",
        "    print(\"Sambandet är måttligt.\")\n",
        "  else:\n",
        "    print(\"Sambandet är svagt.\")\n",
        "\n",
        "else:\n",
        "  print(\"Det finns inget statistiskt säkerställt samband mellan medelvärdet av Sales och Year.\")"
      ],
      "execution_count": null,
      "outputs": []
    },
    {
      "cell_type": "markdown",
      "metadata": {},
      "source": [
        "#### prompt: \n",
        "visualisera sambandet mellan \"Sales\" och \"Year\" representerat som numerisk variabel med hjälp av ett punkt diagram med röd trendlinje"
      ]
    },
    {
      "cell_type": "code",
      "metadata": {},
      "source": [
        "import pandas as pd\n",
        "import numpy as np\n",
        "import matplotlib.pyplot as plt\n",
        "\n",
        "# Assuming 'df' is your DataFrame with 'Sales' and 'Year' columns\n",
        "\n",
        "# Create a scatter plot\n",
        "plt.figure(figsize=(10, 6))\n",
        "plt.scatter(df['Year'], df['Sales'])\n",
        "plt.xlabel('Year')\n",
        "plt.ylabel('Sales')\n",
        "plt.title('Sales vs. Year')\n",
        "\n",
        "# Add a red trendline\n",
        "z = np.polyfit(df['Year'], df['Sales'], 1)\n",
        "p = np.poly1d(z)\n",
        "plt.plot(df['Year'], p(df['Year']), \"r--\")\n",
        "\n",
        "plt.show()"
      ],
      "execution_count": null,
      "outputs": []
    },
    {
      "cell_type": "markdown",
      "metadata": {},
      "source": [
        "#### prompt: \n",
        "spara det nya objektet \"mean_sales_by_year\" till en datafil av typen xlsx"
      ]
    },
    {
      "cell_type": "code",
      "metadata": {},
      "source": [
        "# Spara mean_sales_by_year till en xlsx-fil\n",
        "#mean_sales_by_year.to_excel('mean_sales_by_year.xlsx')"
      ],
      "execution_count": null,
      "outputs": []
    },
    {
      "cell_type": "markdown",
      "metadata": {},
      "source": [
        "### generative ai (ilkin)\n",
        "\n",
        "## overview, ai for hr\n",
        "\n",
        "- get help by using [screenshots](https://chatgpt.com/){target=\"_blank\"}\n",
        "- use low-code [programming](aiws-241022.ipynb){target=\"_blank\"}\n",
        "\n",
        "## ai vs. automation\n"
      ]
    }
  ],
  "metadata": {
    "kernelspec": {
      "name": "python3",
      "language": "python",
      "display_name": "Python 3 (ipykernel)",
      "path": "/usr/local/share/jupyter/kernels/python3"
    }
  },
  "nbformat": 4,
  "nbformat_minor": 4
}