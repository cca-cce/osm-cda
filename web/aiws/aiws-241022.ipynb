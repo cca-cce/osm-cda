{
  "cells": [
    {
      "cell_type": "markdown",
      "metadata": {},
      "source": [
        "---\n",
        "title: \"Workshop 241022\"\n",
        "---\n",
        "\n",
        "Vi är **ekonomer och HR-personal** och de flesta kan väldigt lite om AI och använder det inte. \n",
        "\n",
        "I bästa fall använder några ibland **chatgpt** eller **copilot** men inget systematiskt. \n",
        "\n",
        "Jag skulle gärna vilja att ni **inspirerar** oss 😊 och **skapar nyfikenhet** så att vi kan börja hitta **områden där vi kan ta hjälp av AI**.\n",
        "\n",
        "- **Ekonomer** jobbar med tex. \n",
        "  - budget, \n",
        "  - uppföljning, \n",
        "  - prognoser, \n",
        "  - bokslut, \n",
        "  - forskningsbudget och redovisningar.\n",
        "- **HR** tex: \n",
        "  - rekryteringar (tex många ansökningar som ska gås igenom), \n",
        "  - anställningar, \n",
        "  - introduktion, \n",
        "  - arbetsmiljö.\n",
        "- **Administratörer** tex: \n",
        "  - reseräkningar och utlägg, \n",
        "  - ombokningar, \n",
        "  - anläggningsregister.\n",
        "- **Alla** jobbar med att \n",
        "  - söka info hos finansiärer, medarbetarwebben mm.\n",
        "\n",
        "## overview, ai for hr\n",
        "\n",
        "- chat with your [spreadsheets](https://support.microsoft.com/en-us/office/analyze-data-in-excel-3223aab8-f543-4fda-85ed-76bb0295ffc4){target=\"_blank\"}\n",
        "- chat with your [text documents](https://notebooklm.google.com/){target=\"_blank\"}\n",
        "- use low-code [programming](aiws-241022.ipynb){target=\"_blank\"}\n",
        "\n",
        "## heading 1\n",
        "\n",
        "[![Open In Colab](https://colab.research.google.com/assets/colab-badge.svg)](https://colab.research.google.com/github/cca-cce/osm-cda/blob/main/web/aiws/aiws-241022.ipynb)\n",
        "\n",
        "## ai vs. automation"
      ]
    },
    {
      "cell_type": "code",
      "metadata": {},
      "source": [
        "import pandas as pd\n",
        "\n",
        "# Replace 'job_performance.xlsx' with the actual file name\n",
        "df = pd.read_excel(\"https://github.com/cca-cce/osm-cda/raw/refs/heads/main/csv/product-sales.xlsx\", sheet_name=2)\n",
        "\n",
        "# Display the first few rows of the new DataFrame\n",
        "df.head()"
      ],
      "execution_count": null,
      "outputs": []
    }
  ],
  "metadata": {
    "kernelspec": {
      "name": "python3",
      "language": "python",
      "display_name": "Python 3 (ipykernel)",
      "path": "/usr/local/share/jupyter/kernels/python3"
    }
  },
  "nbformat": 4,
  "nbformat_minor": 4
}