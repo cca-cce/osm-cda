{
  "cells": [
    {
      "cell_type": "markdown",
      "metadata": {},
      "source": [
        "---\n",
        "execute:\n",
        "  eval: true\n",
        "  echo: true\n",
        "  output: true\n",
        "title: \"object recognition\"\n",
        "---\n",
        "\n",
        "- code examples [huggingface](https://huggingface.co/tasks)\n",
        "- download [jupyter notebook](pyws04-2-image-analysis.ipynb)\n",
        "\n",
        "## hf image classification\n",
        "\n",
        "## hf object recognition\n",
        "\n",
        "## image, video to text \n"
      ]
    }
  ],
  "metadata": {
    "kernelspec": {
      "name": "python3",
      "language": "python",
      "display_name": "Python 3 (ipykernel)",
      "path": "/usr/local/share/jupyter/kernels/python3"
    }
  },
  "nbformat": 4,
  "nbformat_minor": 4
}