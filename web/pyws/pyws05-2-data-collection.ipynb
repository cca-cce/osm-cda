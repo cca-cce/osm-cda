{
  "cells": [
    {
      "cell_type": "markdown",
      "metadata": {},
      "source": [
        "---\n",
        "execute:\n",
        "  eval: true\n",
        "  echo: true\n",
        "  output: true\n",
        "title: \"web experiments\"\n",
        "---\n",
        "\n",
        "- code examples [github](https://github.com/){target=\"_blank\"}\n",
        "- code examples [streamlit](https://docs.streamlit.io/){target=\"_blank\"}\n",
        "- download [jupyter notebook](pyws05-2-data-collection.ipynb){target=\"_blank\"}"
      ]
    },
    {
      "cell_type": "code",
      "metadata": {},
      "source": [
        "# run inside google colab\n",
        "#!git clone https://github.com/cca-cce/osm-cdc.git"
      ],
      "execution_count": null,
      "outputs": []
    },
    {
      "cell_type": "markdown",
      "metadata": {},
      "source": [
        "## online survey experiment\n",
        "\n",
        "- github [repo](https://github.com/cca-cce/osm-cdc/archive/refs/heads/main.zip)\n",
        "\n",
        "```html\n",
        "<!DOCTYPE html>\n",
        "<html lang=\"en\">\n",
        "<head>\n",
        "    <meta charset=\"UTF-8\">\n",
        "    <meta name=\"viewport\" content=\"width=device-width, initial-scale=1.0\">\n",
        "    <title>Random Page Redirect</title>\n",
        "    <link rel=\"stylesheet\" href=\"https://pyscript.net/latest/pyscript.css\" />\n",
        "    <script defer src=\"https://pyscript.net/latest/pyscript.js\"></script>\n",
        "</head>\n",
        "<body>\n",
        "    <h1>Welcome to Random Page Redirect</h1>\n",
        "    <py-script>\n",
        "        import random\n",
        "        from js import document, window\n",
        "\n",
        "        def create_random_button():\n",
        "            button = document.createElement('button')\n",
        "            button.textContent = 'Go to a random page'\n",
        "            button.onclick = redirect_user\n",
        "            document.body.appendChild(button)\n",
        "\n",
        "        def redirect_user(event):\n",
        "            if random.random() < 0.5:\n",
        "                window.location.href = 'subpage_a.html'\n",
        "            else:\n",
        "                window.location.href = 'subpage_b.html'\n",
        "\n",
        "        create_random_button()\n",
        "    </py-script>\n",
        "</body>\n",
        "</html>\n",
        "```\n",
        "\n",
        "[![huggingface account and gpu resources required](https://img.youtube.com/vi/SmJ8x-lYl6s/0.jpg)](https://www.youtube.com/watch?v=SmJ8x-lYl6s)\n",
        "\n",
        "## scraping live web data\n",
        "\n",
        "## website user interaction\n"
      ]
    }
  ],
  "metadata": {
    "kernelspec": {
      "name": "python3",
      "language": "python",
      "display_name": "Python 3 (ipykernel)",
      "path": "/usr/local/share/jupyter/kernels/python3"
    }
  },
  "nbformat": 4,
  "nbformat_minor": 4
}