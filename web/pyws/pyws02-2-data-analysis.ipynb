{
  "cells": [
    {
      "cell_type": "markdown",
      "metadata": {},
      "source": [
        "---\n",
        "execute:\n",
        "  eval: true\n",
        "  echo: true\n",
        "  output: true\n",
        "title: \"results visualizations\"\n",
        "---\n",
        "\n",
        "- example gallery [matplotlib](https://matplotlib.org/stable/gallery/index.html){target=\"_blank\"}\n",
        "- example gallery [seaborn](https://seaborn.pydata.org/examples/index.html){target=\"_blank\"}\n",
        "- example gallery [plotnine](https://plotnine.org/gallery/){target=\"_blank\"}\n",
        "- example gallery [plotly](https://plotly.com/python/){target=\"_blank\"}\n",
        "- example gallery [altair](https://altair-viz.github.io/altair-viz-v4/gallery/index.html){target=\"_blank\"}\n",
        "- download [jupyter notebook](pyws02-2-data-analysis.ipynb)\n",
        "\n",
        "## descriptive visualizations\n",
        "\n",
        "\n",
        "\n",
        "\n",
        "\n",
        "\n",
        "## inferential visualizations"
      ]
    },
    {
      "cell_type": "code",
      "metadata": {},
      "source": [
        "import seaborn as sns\n",
        "sns.set_theme(style=\"ticks\", palette=\"pastel\")\n",
        "\n",
        "# Load the example tips dataset\n",
        "tips = sns.load_dataset(\"tips\")\n",
        "\n",
        "# Draw a nested boxplot to show bills by day and time\n",
        "sns.boxplot(x=\"day\", y=\"total_bill\",\n",
        "            hue=\"smoker\", palette=[\"m\", \"g\"],\n",
        "            data=tips)\n",
        "sns.despine(offset=10, trim=True)"
      ],
      "execution_count": null,
      "outputs": []
    },
    {
      "cell_type": "markdown",
      "metadata": {},
      "source": [
        "## testing"
      ]
    },
    {
      "cell_type": "code",
      "metadata": {},
      "source": [
        "#| eval: true\n",
        "#| echo: true\n",
        "#| output: true\n",
        "\n",
        "# prompt: acquire dataset penguins from seaborn package, read it into a polars dataframe, generate a data analysis pipeline where bill_length is aggregated by species, pipe the aggregated data out to a plotnine bar chart with error bars\n",
        "\n",
        "#!pip install polars plotnine\n",
        "\n",
        "import seaborn as sns\n",
        "import polars as pl\n",
        "from plotnine import *\n",
        "\n",
        "# Load the penguins dataset\n",
        "penguins = sns.load_dataset('penguins')\n",
        "\n",
        "# Convert to a Polars DataFrame\n",
        "df = pl.from_pandas(penguins)\n",
        "\n",
        "# Define the data analysis pipeline\n",
        "(\n",
        "    df\n",
        "    .groupby('species')\n",
        "    .agg([\n",
        "        pl.col('bill_length_mm').mean().alias('mean_bill_length'),\n",
        "        pl.col('bill_length_mm').std().alias('std_bill_length')\n",
        "    ])\n",
        "    .pipe(lambda df: (\n",
        "        ggplot(df, aes(x='species', y='mean_bill_length', fill='species'))\n",
        "        + geom_bar(stat='identity', position='dodge')\n",
        "        + geom_errorbar(aes(ymin='mean_bill_length - std_bill_length', ymax='mean_bill_length + std_bill_length'), width=0.2)\n",
        "        + theme_bw()\n",
        "        + labs(x='Species', y='Mean Bill Length (mm)', title='Mean Bill Length by Species')\n",
        "    ))\n",
        "    .draw()\n",
        ")"
      ],
      "execution_count": null,
      "outputs": []
    }
  ],
  "metadata": {
    "kernelspec": {
      "name": "python3",
      "language": "python",
      "display_name": "Python 3 (ipykernel)",
      "path": "/usr/local/share/jupyter/kernels/python3"
    }
  },
  "nbformat": 4,
  "nbformat_minor": 4
}