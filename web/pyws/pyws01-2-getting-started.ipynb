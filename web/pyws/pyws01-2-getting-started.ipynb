{
  "cells": [
    {
      "cell_type": "markdown",
      "metadata": {},
      "source": [
        "---\n",
        "title: \"basic python syntax\"\n",
        "---\n",
        "\n",
        "- download [jupyter notebook](pyws01-2-getting-started.ipynb)\n",
        "\n",
        "## strings and numbers\n",
        "\n",
        "Here are 10 Python code lines with different types of strings and numbers, each followed by an explanation:\n",
        "\n",
        "1. **Code:**"
      ]
    },
    {
      "cell_type": "code",
      "metadata": {
        "md-indent": "   "
      },
      "source": [
        "# This is a comment explaining the next line"
      ],
      "execution_count": null,
      "outputs": []
    },
    {
      "cell_type": "markdown",
      "metadata": {},
      "source": [
        "   **Explanation:**  \n",
        "   This line starts with a `#`, making it a comment. Python ignores this line during execution. It's used to explain code or leave notes for other programmers. \n",
        "\n",
        "2. **Code:**"
      ]
    },
    {
      "cell_type": "code",
      "metadata": {
        "md-indent": "   "
      },
      "source": [
        "print('Hello, World!')"
      ],
      "execution_count": null,
      "outputs": []
    },
    {
      "cell_type": "markdown",
      "metadata": {},
      "source": [
        "   **Explanation:**  \n",
        "   This prints the string `'Hello, World!'` to the console. Single quotes enclose the string. In Python, single and double quotes are interchangeable for defining strings.\n",
        "\n",
        "3. **Code:**"
      ]
    },
    {
      "cell_type": "code",
      "metadata": {
        "md-indent": "   "
      },
      "source": [
        "print(\"Python is fun\")"
      ],
      "execution_count": null,
      "outputs": []
    },
    {
      "cell_type": "markdown",
      "metadata": {},
      "source": [
        "   **Explanation:**  \n",
        "   Here, double quotes are used to define the string `\"Python is fun\"`. Python treats strings defined with single or double quotes the same way. \n",
        "\n",
        "4. **Code:**"
      ]
    },
    {
      "cell_type": "code",
      "metadata": {
        "md-indent": "   "
      },
      "source": [
        "print(\"He said, \\\"Python is cool\\\"\")"
      ],
      "execution_count": null,
      "outputs": []
    },
    {
      "cell_type": "markdown",
      "metadata": {},
      "source": [
        "   **Explanation:**  \n",
        "   This line prints `He said, \"Python is cool\"`. The backslash `\\` before the double quotes escapes them, telling Python to treat them as part of the string instead of ending it.\n",
        "\n",
        "5. **Code:**"
      ]
    },
    {
      "cell_type": "code",
      "metadata": {
        "md-indent": "   "
      },
      "source": [
        "print(\"Line one\\nLine two\")"
      ],
      "execution_count": null,
      "outputs": []
    },
    {
      "cell_type": "markdown",
      "metadata": {},
      "source": [
        "   **Explanation:**  \n",
        "   The `\\n` is a newline escape character, so this will output:\n",
        "   ```\n",
        "   Line one\n",
        "   Line two\n",
        "   ```\n",
        "   The `\\n` tells Python to move to a new line.\n",
        "\n",
        "6. **Code:**"
      ]
    },
    {
      "cell_type": "code",
      "metadata": {
        "md-indent": "   "
      },
      "source": [
        "print(\"Hello\" + \" \" + \"World\")"
      ],
      "execution_count": null,
      "outputs": []
    },
    {
      "cell_type": "markdown",
      "metadata": {},
      "source": [
        "   **Explanation:**  \n",
        "   This line concatenates three strings: `\"Hello\"`, a space (`\" \"`), and `\"World\"`, resulting in `Hello World`. The `+` operator combines strings.\n",
        "\n",
        "7. **Code:**"
      ]
    },
    {
      "cell_type": "code",
      "metadata": {
        "md-indent": "   "
      },
      "source": [
        "print(5 + 3)"
      ],
      "execution_count": null,
      "outputs": []
    },
    {
      "cell_type": "markdown",
      "metadata": {},
      "source": [
        "   **Explanation:**  \n",
        "   This performs an arithmetic operation, adding two integers `5` and `3`, resulting in the output `8`. Python interprets `+` as an addition operator when used with numbers.\n",
        "\n",
        "8. **Code:**"
      ]
    },
    {
      "cell_type": "code",
      "metadata": {
        "md-indent": "   "
      },
      "source": [
        "print(5.0 + 3)"
      ],
      "execution_count": null,
      "outputs": []
    },
    {
      "cell_type": "markdown",
      "metadata": {},
      "source": [
        "   **Explanation:**  \n",
        "   This adds a floating-point number `5.0` and an integer `3`. Python automatically converts the integer to a float and outputs `8.0`, demonstrating Python’s support for mixed-type arithmetic.\n",
        "\n",
        "9. **Code:**"
      ]
    },
    {
      "cell_type": "code",
      "metadata": {
        "md-indent": "   "
      },
      "source": [
        "print(7 / 2)"
      ],
      "execution_count": null,
      "outputs": []
    },
    {
      "cell_type": "markdown",
      "metadata": {},
      "source": [
        "   **Explanation:**  \n",
        "   This division operation between two integers results in `3.5`. In Python 3, division with `/` always results in a float, even when dividing two integers.\n",
        "\n",
        "10. **Code:**"
      ]
    },
    {
      "cell_type": "code",
      "metadata": {
        "md-indent": "   "
      },
      "source": [
        "print(type(3.14))"
      ],
      "execution_count": null,
      "outputs": []
    },
    {
      "cell_type": "markdown",
      "metadata": {},
      "source": [
        "   **Explanation:**  \n",
        "   This uses the `type()` function, which returns the data type of the value passed to it. Here, `3.14` is a floating-point number, so the output will be `<class 'float'>`, indicating the value is of type `float`. \n",
        "\n",
        "These examples cover key features of Python strings, numbers, and the `type()` function, along with how comments and escape characters work.\n",
        "\n",
        "## lists and dictionaries\n",
        "\n",
        "Here are 10 Python code lines illustrating different types of lists and dictionaries, with explanations:\n",
        "\n",
        "1. **Code:**"
      ]
    },
    {
      "cell_type": "code",
      "metadata": {
        "md-indent": "   "
      },
      "source": [
        "my_list = [1, 2, 3, 4]"
      ],
      "execution_count": null,
      "outputs": []
    },
    {
      "cell_type": "markdown",
      "metadata": {},
      "source": [
        "   **Explanation:**  \n",
        "   This creates a list called `my_list` containing four integer elements: `[1, 2, 3, 4]`. Lists are ordered and mutable collections in Python, allowing for element addition, removal, and modification. Each element can be accessed by its index, starting from 0.\n",
        "\n",
        "2. **Code:**"
      ]
    },
    {
      "cell_type": "code",
      "metadata": {
        "md-indent": "   "
      },
      "source": [
        "my_dict = {'name': 'Alice', 'age': 30}"
      ],
      "execution_count": null,
      "outputs": []
    },
    {
      "cell_type": "markdown",
      "metadata": {},
      "source": [
        "   **Explanation:**  \n",
        "   This creates a dictionary `my_dict` with two key-value pairs: `'name': 'Alice'` and `'age': 30`. Dictionaries are unordered collections that map keys to values, and values can be accessed using the keys.\n",
        "\n",
        "3. **Code:**"
      ]
    },
    {
      "cell_type": "code",
      "metadata": {
        "md-indent": "   "
      },
      "source": [
        "nested_list = [[1, 2], [3, 4], [5, 6]]"
      ],
      "execution_count": null,
      "outputs": []
    },
    {
      "cell_type": "markdown",
      "metadata": {},
      "source": [
        "   **Explanation:**  \n",
        "   This creates a 2D list `nested_list`, where each element is another list. Accessing elements can be done using two indices, such as `nested_list[0][1]` to get the value `2`.\n",
        "\n",
        "4. **Code:**"
      ]
    },
    {
      "cell_type": "code",
      "metadata": {
        "md-indent": "   "
      },
      "source": [
        "nested_dict = {'person1': {'name': 'Alice', 'age': 30}, 'person2': {'name': 'Bob', 'age': 25}}"
      ],
      "execution_count": null,
      "outputs": []
    },
    {
      "cell_type": "markdown",
      "metadata": {},
      "source": [
        "   **Explanation:**  \n",
        "   This is a 2D dictionary, where each key (`'person1'`, `'person2'`) maps to another dictionary. For example, you can access `Alice`'s age by using `nested_dict['person1']['age']`, which returns `30`.\n",
        "\n",
        "5. **Code:**"
      ]
    },
    {
      "cell_type": "code",
      "metadata": {
        "md-indent": "   "
      },
      "source": [
        "my_list.append(5)"
      ],
      "execution_count": null,
      "outputs": []
    },
    {
      "cell_type": "markdown",
      "metadata": {},
      "source": [
        "   **Explanation:**  \n",
        "   This appends the value `5` to the end of `my_list`. The `append()` method is a built-in function for adding elements to a list, modifying it in place.\n",
        "\n",
        "6. **Code:**"
      ]
    },
    {
      "cell_type": "code",
      "metadata": {
        "md-indent": "   "
      },
      "source": [
        "last_item = my_list.pop()"
      ],
      "execution_count": null,
      "outputs": []
    },
    {
      "cell_type": "markdown",
      "metadata": {},
      "source": [
        "   **Explanation:**  \n",
        "   This removes and returns the last element from `my_list` using the `pop()` method. If `my_list = [1, 2, 3, 4, 5]`, after popping, `my_list` becomes `[1, 2, 3, 4]` and `last_item` is assigned the value `5`.\n",
        "\n",
        "7. **Code:**"
      ]
    },
    {
      "cell_type": "code",
      "metadata": {
        "md-indent": "   "
      },
      "source": [
        "second_item = my_list[1]"
      ],
      "execution_count": null,
      "outputs": []
    },
    {
      "cell_type": "markdown",
      "metadata": {},
      "source": [
        "   **Explanation:**  \n",
        "   This accesses the second element of `my_list` using the index `1` (Python uses 0-based indexing). For example, if `my_list = [1, 2, 3, 4]`, `second_item` will be `2`.\n",
        "\n",
        "8. **Code:**"
      ]
    },
    {
      "cell_type": "code",
      "metadata": {
        "md-indent": "   "
      },
      "source": [
        "my_dict['city'] = 'New York'"
      ],
      "execution_count": null,
      "outputs": []
    },
    {
      "cell_type": "markdown",
      "metadata": {},
      "source": [
        "   **Explanation:**  \n",
        "   This adds a new key-value pair `'city': 'New York'` to `my_dict`. Dictionaries allow dynamic insertion of key-value pairs. If `my_dict` already contains `'city'`, this will update its value.\n",
        "\n",
        "9. **Code:**"
      ]
    },
    {
      "cell_type": "code",
      "metadata": {
        "md-indent": "   "
      },
      "source": [
        "removed_value = my_dict.pop('age')"
      ],
      "execution_count": null,
      "outputs": []
    },
    {
      "cell_type": "markdown",
      "metadata": {},
      "source": [
        "   **Explanation:**  \n",
        "   This removes the key `'age'` from `my_dict` and returns its value (`30` in this case). The `pop()` method removes the specified key-value pair and modifies the dictionary.\n",
        "\n",
        "10. **Code:**"
      ]
    },
    {
      "cell_type": "code",
      "metadata": {
        "md-indent": "   "
      },
      "source": [
        "print(type(my_list))"
      ],
      "execution_count": null,
      "outputs": []
    },
    {
      "cell_type": "markdown",
      "metadata": {},
      "source": [
        "   **Explanation:**  \n",
        "   This uses the `type()` function to check the data type of `my_list`. The output will be `<class 'list'>`, indicating that `my_list` is a list. Similarly, calling `type(my_dict)` would return `<class 'dict'>`, showing that `my_dict` is a dictionary.\n",
        "\n",
        "These examples illustrate key operations with lists and dictionaries, including element access, appending, popping, and the use of the `type()` function to check data types.\n",
        "\n",
        "## loops and conditionals\n",
        "\n",
        "Here are 10 Python code chunks demonstrating different types of loops and conditionals, with explanations:\n",
        "\n",
        "1. **Code:**"
      ]
    },
    {
      "cell_type": "code",
      "metadata": {
        "md-indent": "   "
      },
      "source": [
        "for i in range(5):\n",
        "   print(i)"
      ],
      "execution_count": null,
      "outputs": []
    },
    {
      "cell_type": "markdown",
      "metadata": {},
      "source": [
        "   **Explanation:**  \n",
        "   This is a basic `for` loop that iterates over the range `0` to `4` (Python ranges are zero-indexed and exclusive of the stop value). It prints each value of `i` in the loop: `0, 1, 2, 3, 4`.\n",
        "\n",
        "2. **Code:**"
      ]
    },
    {
      "cell_type": "code",
      "metadata": {
        "md-indent": "   "
      },
      "source": [
        "while True:\n",
        "   print(\"Looping...\")\n",
        "   break"
      ],
      "execution_count": null,
      "outputs": []
    },
    {
      "cell_type": "markdown",
      "metadata": {},
      "source": [
        "   **Explanation:**  \n",
        "   This is a `while` loop with a `True` condition, which would normally create an infinite loop. However, the `break` statement exits the loop after the first iteration. Without `break`, it would continuously print `\"Looping...\"`.\n",
        "\n",
        "3. **Code:**"
      ]
    },
    {
      "cell_type": "code",
      "metadata": {
        "md-indent": "   "
      },
      "source": [
        "if 10 > 5:\n",
        "   print(\"10 is greater than 5\")\n",
        "else:\n",
        "   print(\"5 is greater than or equal to 10\")"
      ],
      "execution_count": null,
      "outputs": []
    },
    {
      "cell_type": "markdown",
      "metadata": {},
      "source": [
        "   **Explanation:**  \n",
        "   This is an `if-else` statement. The condition `10 > 5` evaluates to `True`, so the first block is executed, printing `\"10 is greater than 5\"`. The `else` block would run if the condition were `False`.\n",
        "\n",
        "4. **Code:**"
      ]
    },
    {
      "cell_type": "code",
      "metadata": {
        "md-indent": "   "
      },
      "source": [
        "number = 7\n",
        "if number % 2 == 0:\n",
        "   print(\"Even\")\n",
        "else:\n",
        "   print(\"Odd\")"
      ],
      "execution_count": null,
      "outputs": []
    },
    {
      "cell_type": "markdown",
      "metadata": {},
      "source": [
        "   **Explanation:**  \n",
        "   This checks if the variable `number` is even or odd using the modulo operator (`%`). If `number % 2 == 0`, it prints `\"Even\"`, otherwise, it prints `\"Odd\"`. In this case, it prints `\"Odd\"` because `7` is not divisible by `2`.\n",
        "\n",
        "5. **Code:**"
      ]
    },
    {
      "cell_type": "code",
      "metadata": {
        "md-indent": "   "
      },
      "source": [
        "for x in range(10):\n",
        "   if x % 2 == 0:\n",
        "       continue\n",
        "   print(x)"
      ],
      "execution_count": null,
      "outputs": []
    },
    {
      "cell_type": "markdown",
      "metadata": {},
      "source": [
        "   **Explanation:**  \n",
        "   This `for` loop prints all odd numbers from `0` to `9`. The `continue` statement skips the rest of the loop when `x` is even, so only odd values (`1, 3, 5, 7, 9`) are printed.\n",
        "\n",
        "6. **Code:**"
      ]
    },
    {
      "cell_type": "code",
      "metadata": {
        "md-indent": "   "
      },
      "source": [
        "fruits = [\"apple\", \"banana\", \"cherry\"]\n",
        "for index, fruit in enumerate(fruits):\n",
        "   print(f\"Fruit {index}: {fruit}\")"
      ],
      "execution_count": null,
      "outputs": []
    },
    {
      "cell_type": "markdown",
      "metadata": {},
      "source": [
        "   **Explanation:**  \n",
        "   The `enumerate()` function provides both the index and value of each element in the `fruits` list. The loop iterates over the list, printing each fruit along with its index:  \n",
        "   ```\n",
        "   Fruit 0: apple\n",
        "   Fruit 1: banana\n",
        "   Fruit 2: cherry\n",
        "   ```\n",
        "\n",
        "7. **Code:**"
      ]
    },
    {
      "cell_type": "code",
      "metadata": {
        "md-indent": "   "
      },
      "source": [
        "is_raining = True\n",
        "is_sunny = False\n",
        "if is_raining and not is_sunny:\n",
        "   print(\"It's raining but not sunny\")\n",
        "elif is_sunny and not is_raining:\n",
        "   print(\"It's sunny but not raining\")\n",
        "else:\n",
        "   print(\"It's either both raining and sunny or neither\")"
      ],
      "execution_count": null,
      "outputs": []
    },
    {
      "cell_type": "markdown",
      "metadata": {},
      "source": [
        "   **Explanation:**  \n",
        "   This demonstrates a compound conditional using Boolean variables. Since `is_raining` is `True` and `is_sunny` is `False`, the first block is executed, printing `\"It's raining but not sunny\"`.\n",
        "\n",
        "8. **Code:**"
      ]
    },
    {
      "cell_type": "code",
      "metadata": {
        "md-indent": "   "
      },
      "source": [
        "even_numbers = [x for x in range(10) if x % 2 == 0]\n",
        "print(even_numbers)"
      ],
      "execution_count": null,
      "outputs": []
    },
    {
      "cell_type": "markdown",
      "metadata": {},
      "source": [
        "   **Explanation:**  \n",
        "   This is a list comprehension that creates a list of even numbers from `0` to `9`. It iterates over the range of numbers and only includes those where `x % 2 == 0`. The output is `[0, 2, 4, 6, 8]`.\n",
        "\n",
        "9. **Code:**"
      ]
    },
    {
      "cell_type": "code",
      "metadata": {
        "md-indent": "   "
      },
      "source": [
        "try:\n",
        "   result = 10 / 0\n",
        "except ZeroDivisionError:\n",
        "   print(\"Cannot divide by zero\")"
      ],
      "execution_count": null,
      "outputs": []
    },
    {
      "cell_type": "markdown",
      "metadata": {},
      "source": [
        "   **Explanation:**  \n",
        "   This is an example of a `try-except` block for exception handling. The `try` block contains code that could raise an exception (division by zero), and the `except` block catches the `ZeroDivisionError` and prints `\"Cannot divide by zero\"`. Without the exception handling, the program would crash.\n",
        "\n",
        "10. **Code:**"
      ]
    },
    {
      "cell_type": "code",
      "metadata": {
        "md-indent": "   "
      },
      "source": [
        "for i in range(5):\n",
        "   try:\n",
        "       print(10 / i)\n",
        "   except ZeroDivisionError:\n",
        "       print(\"Division by zero is not allowed\")"
      ],
      "execution_count": null,
      "outputs": []
    },
    {
      "cell_type": "markdown",
      "metadata": {},
      "source": [
        "   **Explanation:**  \n",
        "   This loop attempts to divide `10` by `i` for values from `0` to `4`. When `i` is `0`, a `ZeroDivisionError` occurs, which is caught by the `except` block, printing `\"Division by zero is not allowed\"`. For other values of `i`, the result of the division is printed.\n",
        "\n",
        "These examples cover various types of loops, conditionals, list comprehensions, Boolean logic, and exception handling in Python.\n",
        "\n",
        "## user defined functions\n",
        "\n",
        "Here are 10 Python code chunks demonstrating different types of user-defined functions, with explanations:\n",
        "\n",
        "1. **Code:**"
      ]
    },
    {
      "cell_type": "code",
      "metadata": {
        "md-indent": "   "
      },
      "source": [
        "def greet():\n",
        "   \"\"\"This function prints a simple greeting message.\"\"\"\n",
        "   print(\"Hello, welcome!\")\n",
        "greet()"
      ],
      "execution_count": null,
      "outputs": []
    },
    {
      "cell_type": "markdown",
      "metadata": {},
      "source": [
        "   **Explanation:**  \n",
        "   This is a simple function `greet()` that takes no arguments and prints a greeting message. It is called using `greet()`. The triple quotes `\"\"\"` define a docstring, which serves as the function’s documentation. When called, it prints `\"Hello, welcome!\"`.\n",
        "\n",
        "2. **Code:**"
      ]
    },
    {
      "cell_type": "code",
      "metadata": {
        "md-indent": "   "
      },
      "source": [
        "def greet_person(name):\n",
        "   \"\"\"This function greets a person by name.\"\"\"\n",
        "   print(f\"Hello, {name}!\")\n",
        "greet_person(\"Alice\")"
      ],
      "execution_count": null,
      "outputs": []
    },
    {
      "cell_type": "markdown",
      "metadata": {},
      "source": [
        "   **Explanation:**  \n",
        "   This function `greet_person(name)` accepts a single argument, `name`, and prints a personalized greeting. When you call `greet_person(\"Alice\")`, it prints `\"Hello, Alice!\"`. The docstring explains what the function does.\n",
        "\n",
        "3. **Code:**"
      ]
    },
    {
      "cell_type": "code",
      "metadata": {
        "md-indent": "   "
      },
      "source": [
        "def add_numbers(a, b):\n",
        "   \"\"\"Returns the sum of two numbers.\"\"\"\n",
        "   return a + b\n",
        "result = add_numbers(5, 3)\n",
        "print(result)"
      ],
      "execution_count": null,
      "outputs": []
    },
    {
      "cell_type": "markdown",
      "metadata": {},
      "source": [
        "   **Explanation:**  \n",
        "   `add_numbers(a, b)` is a function that takes two arguments, `a` and `b`, and returns their sum. In this case, `add_numbers(5, 3)` returns `8`, which is printed. The `return` keyword is used to send the result back to the calling code.\n",
        "\n",
        "4. **Code:**"
      ]
    },
    {
      "cell_type": "code",
      "metadata": {
        "md-indent": "   "
      },
      "source": [
        "def multiply(a, b=2):\n",
        "   \"\"\"Multiplies two numbers, with the second number having a default value of 2.\"\"\"\n",
        "   return a * b\n",
        "print(multiply(4))  # uses default value for b\n",
        "print(multiply(4, 3))  # overrides default value for b"
      ],
      "execution_count": null,
      "outputs": []
    },
    {
      "cell_type": "markdown",
      "metadata": {},
      "source": [
        "   **Explanation:**  \n",
        "   This function `multiply(a, b=2)` takes two arguments but assigns a default value of `2` to `b`. If only one argument is passed, the function uses the default value. Calling `multiply(4)` returns `8`, while `multiply(4, 3)` returns `12`.\n",
        "\n",
        "5. **Code:**"
      ]
    },
    {
      "cell_type": "code",
      "metadata": {
        "md-indent": "   "
      },
      "source": [
        "def divide(a, b):\n",
        "   \"\"\"Divides a by b and handles division by zero.\"\"\"\n",
        "   if b == 0:\n",
        "       return \"Cannot divide by zero!\"\n",
        "   return a / b\n",
        "print(divide(10, 2))\n",
        "print(divide(10, 0))"
      ],
      "execution_count": null,
      "outputs": []
    },
    {
      "cell_type": "markdown",
      "metadata": {},
      "source": [
        "   **Explanation:**  \n",
        "   `divide(a, b)` takes two arguments and returns the result of dividing `a` by `b`. It includes a conditional to check for division by zero. If `b` is `0`, it returns an error message. Calling `divide(10, 2)` returns `5.0`, while `divide(10, 0)` returns `\"Cannot divide by zero!\"`.\n",
        "\n",
        "6. **Code:**"
      ]
    },
    {
      "cell_type": "code",
      "metadata": {
        "md-indent": "   "
      },
      "source": [
        "def square_elements(numbers):\n",
        "   \"\"\"Takes a list of numbers and returns a list of their squares.\"\"\"\n",
        "   return [x ** 2 for x in numbers]\n",
        "print(square_elements([1, 2, 3, 4]))"
      ],
      "execution_count": null,
      "outputs": []
    },
    {
      "cell_type": "markdown",
      "metadata": {},
      "source": [
        "   **Explanation:**  \n",
        "   This function `square_elements(numbers)` takes a list of numbers and returns a new list containing the squares of those numbers. The function uses list comprehension. Calling `square_elements([1, 2, 3, 4])` returns `[1, 4, 9, 16]`.\n",
        "\n",
        "7. **Code:**"
      ]
    },
    {
      "cell_type": "code",
      "metadata": {
        "md-indent": "   "
      },
      "source": [
        "def factorial(n):\n",
        "   \"\"\"Recursively calculates the factorial of n.\"\"\"\n",
        "   if n == 0:\n",
        "       return 1\n",
        "   else:\n",
        "       return n * factorial(n - 1)\n",
        "print(factorial(5))"
      ],
      "execution_count": null,
      "outputs": []
    },
    {
      "cell_type": "markdown",
      "metadata": {},
      "source": [
        "   **Explanation:**  \n",
        "   This function `factorial(n)` uses recursion to calculate the factorial of a number. If `n` is `0`, it returns `1` (base case). Otherwise, it multiplies `n` by `factorial(n - 1)`. Calling `factorial(5)` returns `120`.\n",
        "\n",
        "8. **Code:**"
      ]
    },
    {
      "cell_type": "code",
      "metadata": {
        "md-indent": "   "
      },
      "source": [
        "def is_even(number):\n",
        "   \"\"\"Checks if a number is even.\"\"\"\n",
        "   return number % 2 == 0\n",
        "print(is_even(4))  # True\n",
        "print(is_even(7))  # False"
      ],
      "execution_count": null,
      "outputs": []
    },
    {
      "cell_type": "markdown",
      "metadata": {},
      "source": [
        "   **Explanation:**  \n",
        "   The function `is_even(number)` checks if a number is even by using the modulo operator (`%`). If the remainder is `0`, it returns `True`, otherwise `False`. Calling `is_even(4)` returns `True`, and `is_even(7)` returns `False`.\n",
        "\n",
        "9. **Code:**"
      ]
    },
    {
      "cell_type": "code",
      "metadata": {
        "md-indent": "   "
      },
      "source": [
        "def describe_person(name, age, *hobbies):\n",
        "   \"\"\"Takes a name, age, and any number of hobbies, and prints a description.\"\"\"\n",
        "   print(f\"{name} is {age} years old and enjoys {', '.join(hobbies)}.\")\n",
        "describe_person(\"Alice\", 30, \"reading\", \"hiking\", \"cooking\")"
      ],
      "execution_count": null,
      "outputs": []
    },
    {
      "cell_type": "markdown",
      "metadata": {},
      "source": [
        "   **Explanation:**  \n",
        "   This function `describe_person(name, age, *hobbies)` accepts a variable number of hobby arguments using the `*` syntax, which collects extra arguments into a tuple. The `join()` method creates a string from the hobbies. Calling `describe_person(\"Alice\", 30, \"reading\", \"hiking\", \"cooking\")` prints `\"Alice is 30 years old and enjoys reading, hiking, cooking.\"`\n",
        "\n",
        "10. **Code:**"
      ]
    },
    {
      "cell_type": "code",
      "metadata": {
        "md-indent": "   "
      },
      "source": [
        "def calculate_average(*numbers):\n",
        "    \"\"\"Calculates the average of any number of values.\"\"\"\n",
        "    if len(numbers) == 0:\n",
        "        return 0\n",
        "    return sum(numbers) / len(numbers)\n",
        "print(calculate_average(5, 10, 15))\n",
        "print(calculate_average())"
      ],
      "execution_count": null,
      "outputs": []
    },
    {
      "cell_type": "markdown",
      "metadata": {},
      "source": [
        "   **Explanation:**  \n",
        "   The `calculate_average(*numbers)` function calculates the average of any number of arguments. It first checks if any numbers were provided (if the length of `numbers` is `0`, it returns `0`), then calculates the average by dividing the sum by the length. Calling `calculate_average(5, 10, 15)` returns `10.0`, and `calculate_average()` returns `0`.\n",
        "\n",
        "These examples show different ways to define functions with varying arguments, handling edge cases, using recursion, and incorporating function documentation.\n"
      ]
    }
  ],
  "metadata": {
    "kernelspec": {
      "name": "python3",
      "language": "python",
      "display_name": "Python 3 (ipykernel)",
      "path": "/usr/local/share/jupyter/kernels/python3"
    }
  },
  "nbformat": 4,
  "nbformat_minor": 4
}