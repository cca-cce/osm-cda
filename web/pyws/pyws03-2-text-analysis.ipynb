{
  "cells": [
    {
      "cell_type": "markdown",
      "metadata": {},
      "source": [
        "---\n",
        "title: \"text tokenization\"\n",
        "---\n",
        "\n",
        "- code examples [nltk](https://www.nltk.org/howto.html)\n",
        "- code examples [spacy](https://spacy.io/usage/spacy-101)\n",
        "- download [jupyter notebook](pyws03-2-text-analysis.ipynb)\n"
      ]
    }
  ],
  "metadata": {
    "kernelspec": {
      "name": "python3",
      "language": "python",
      "display_name": "Python 3 (ipykernel)",
      "path": "/usr/local/share/jupyter/kernels/python3"
    }
  },
  "nbformat": 4,
  "nbformat_minor": 4
}