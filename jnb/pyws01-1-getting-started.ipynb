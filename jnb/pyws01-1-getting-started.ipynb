{
  "cells": [
    {
      "cell_type": "markdown",
      "metadata": {},
      "source": [
        "---\n",
        "title: \"python environments\"\n",
        "---\n",
        "\n",
        "## google colab \n",
        "\n",
        "[![sign in to google account to connect colab cloud app](https://img.youtube.com/vi/inN8seMm7UI/0.jpg)](https://www.youtube.com/watch?v=inN8seMm7UI)\n",
        "\n",
        "- [https://colab.research.google.com/](https://colab.research.google.com/)\n",
        "\n",
        "## visual studio code\n",
        "\n",
        "[![download and install vscode app on local computer](https://img.youtube.com/vi/D2cwvpJSBX4/0.jpg)](https://www.youtube.com/watch?v=D2cwvpJSBX4)\n",
        "\n",
        "- https://code.visualstudio.com/download\n",
        "- https://www.python.org/downloads/\n",
        "\n",
        "## anaconda\n",
        "\n",
        "- https://www.anaconda.com/download"
      ]
    }
  ],
  "metadata": {
    "kernelspec": {
      "name": "python3",
      "language": "python",
      "display_name": "Python 3 (ipykernel)",
      "path": "/usr/local/share/jupyter/kernels/python3"
    }
  },
  "nbformat": 4,
  "nbformat_minor": 4
}