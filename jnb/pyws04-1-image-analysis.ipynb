{
  "cells": [
    {
      "cell_type": "markdown",
      "metadata": {},
      "source": [
        "---\n",
        "execute:\n",
        "  eval: true\n",
        "  echo: true\n",
        "  output: true\n",
        "title: \"reading image content\"\n",
        "---\n",
        "\n",
        "- code examples [pil, pillow](https://pillow.readthedocs.io/en/stable/handbook/index.html){target=\"_blank\"}\n",
        "- code examples [opencv](https://docs.opencv.org/4.x/d6/d00/tutorial_py_root.html){target=\"_blank\"}\n",
        "- download [jupyter notebook](pyws04-1-image-analysis.ipynb){target=\"_blank\"}"
      ]
    },
    {
      "cell_type": "code",
      "metadata": {},
      "source": [
        "# run inside google colab\n",
        "#!git clone https://github.com/cca-cce/osm-cca-cv.git"
      ],
      "execution_count": null,
      "outputs": []
    },
    {
      "cell_type": "markdown",
      "metadata": {},
      "source": [
        "## create images\n",
        "\n",
        "![some alt](https://raw.githubusercontent.com/nils-holmberg/cca-cv/main/web/isk/rgb-pixel-image-01.jpg)\n",
        "\n",
        "### Import Libraries\n",
        "\n",
        "*We start by importing the necessary libraries for numerical computations, image processing, and plotting. `numpy` is used for handling numerical arrays, `cv2` from OpenCV is used for image processing, and `seaborn` and `matplotlib.pyplot` are used for data visualization and plotting images.*"
      ]
    },
    {
      "cell_type": "code",
      "metadata": {},
      "source": [
        "import numpy as np\n",
        "import cv2\n",
        "import seaborn as sns\n",
        "import matplotlib.pyplot as plt"
      ],
      "execution_count": null,
      "outputs": []
    },
    {
      "cell_type": "markdown",
      "metadata": {},
      "source": [
        "---\n",
        "\n",
        "### Create an Empty (Black) Image\n",
        "\n",
        "*We create an empty image of size 256x256 pixels with 3 color channels (BGR). The image is initialized with zeros, resulting in a black image. The `dtype=np.uint8` ensures that the pixel values are in the 0-255 range, suitable for image data.*"
      ]
    },
    {
      "cell_type": "code",
      "metadata": {},
      "source": [
        "# Create an empty (black) 256x256 image\n",
        "empty_image = np.zeros((256, 256, 3), dtype=np.uint8)"
      ],
      "execution_count": null,
      "outputs": []
    },
    {
      "cell_type": "markdown",
      "metadata": {},
      "source": [
        "---\n",
        "\n",
        "### Display the Empty Image\n",
        "\n",
        "*Using seaborn for styling and matplotlib for plotting, we display the empty (black) image. Since OpenCV uses BGR color format by default and matplotlib expects RGB, we convert the image using `cv2.cvtColor`. The axes are turned off for a cleaner display.*"
      ]
    },
    {
      "cell_type": "code",
      "metadata": {},
      "source": [
        "# Display the image using seaborn\n",
        "sns.set()  # For a nicer plot style\n",
        "plt.imshow(cv2.cvtColor(empty_image, cv2.COLOR_BGR2RGB))  # Convert BGR to RGB for correct color representation\n",
        "plt.axis('off')  # Hide axis\n",
        "plt.show()"
      ],
      "execution_count": null,
      "outputs": []
    },
    {
      "cell_type": "markdown",
      "metadata": {},
      "source": [
        "---\n",
        "\n",
        "### Define a Function to Create Images with Specific RGB Values\n",
        "\n",
        "*We define a function `create_rgb_image` that generates a 256x256 image filled with specified red, green, and blue values. The function creates an empty image and assigns the provided color values to the respective channels.*"
      ]
    },
    {
      "cell_type": "code",
      "metadata": {},
      "source": [
        "# Function to create an image with specified RGB values\n",
        "def create_rgb_image(red, green, blue):\n",
        "    image = np.zeros((256, 256, 3), dtype=np.uint8)\n",
        "    image[:, :, 0] = red    # Red channel\n",
        "    image[:, :, 1] = green  # Green channel\n",
        "    image[:, :, 2] = blue   # Blue channel\n",
        "    return image"
      ],
      "execution_count": null,
      "outputs": []
    },
    {
      "cell_type": "markdown",
      "metadata": {},
      "source": [
        "---\n",
        "\n",
        "### Create Images for Various Color Combinations\n",
        "\n",
        "*We define a list of RGB combinations representing common colors such as black, red, green, blue, yellow, magenta, cyan, and white. Using a list comprehension, we create images for each of these color combinations by calling the `create_rgb_image` function.*"
      ]
    },
    {
      "cell_type": "code",
      "metadata": {},
      "source": [
        "# Creating images for each combination\n",
        "combinations = [\n",
        "    (0, 0, 0),     # Black\n",
        "    (255, 0, 0),   # Red\n",
        "    (0, 255, 0),   # Green\n",
        "    (0, 0, 255),   # Blue\n",
        "    (255, 255, 0), # Yellow\n",
        "    (255, 0, 255), # Magenta\n",
        "    (0, 255, 255), # Cyan\n",
        "    (255, 255, 255)# White\n",
        "]\n",
        "\n",
        "images = [create_rgb_image(*combo) for combo in combinations]"
      ],
      "execution_count": null,
      "outputs": []
    },
    {
      "cell_type": "markdown",
      "metadata": {},
      "source": [
        "---\n",
        "\n",
        "### Display the Color Images in a Grid\n",
        "\n",
        "*We set the seaborn style and create a figure for plotting. Using matplotlib's subplot functionality, we display each color image in a grid layout. The RGB values of each image are displayed as the title. The axes are hidden for clarity, and `plt.tight_layout()` adjusts the spacing between subplots.*"
      ]
    },
    {
      "cell_type": "code",
      "metadata": {},
      "source": [
        "# Plotting\n",
        "sns.set()  # For a nicer plot style\n",
        "plt.figure(figsize=(12, 6))\n",
        "\n",
        "for i, img in enumerate(images):\n",
        "    plt.subplot(2, 4, i + 1)\n",
        "    plt.imshow(img)\n",
        "    plt.axis('off')\n",
        "    plt.title(f'R:{combinations[i][0]} G:{combinations[i][1]} B:{combinations[i][2]}')\n",
        "\n",
        "plt.tight_layout()\n",
        "plt.show()"
      ],
      "execution_count": null,
      "outputs": []
    },
    {
      "cell_type": "markdown",
      "metadata": {},
      "source": [
        "---\n",
        "\n",
        "**Summary:**\n",
        "\n",
        "- **First**, we imported necessary libraries for numerical operations, image processing, and plotting.\n",
        "- **Second**, we created and displayed an empty (black) image.\n",
        "- **Third**, we defined a function to create images with specific RGB values.\n",
        "- **Fourth**, we generated images for different color combinations.\n",
        "- **Finally**, we displayed all the generated images in a grid format with their RGB values.\n",
        "\n",
        "This code demonstrates how to manipulate image data at the pixel level using NumPy arrays and how to visualize the results using Matplotlib and Seaborn.\n",
        "\n",
        "## display images\n",
        "\n",
        "- example [sustainability communication](https://www.lunduniversity.lu.se/about-university/university-glance/mission-vision-and-values/sustainability){target=\"_blank\"}\n",
        "\n",
        "### Import Libraries and Load Image Using OpenCV\n",
        "\n",
        "*In this step, we import the necessary libraries for image processing and display. We use OpenCV (`cv2`) for image operations and `cv2_imshow` from `google.colab.patches` to display images within Google Colab notebooks. We then attempt to load an image from a specified file path using `cv2.imread()`.*"
      ]
    },
    {
      "cell_type": "code",
      "metadata": {},
      "source": [
        "import cv2\n",
        "from google.colab.patches import cv2_imshow\n",
        "\n",
        "# Load an image from file\n",
        "image_path = '/content/osm-cca-cv/res/img/image_prefix-000.png'\n",
        "image = cv2.imread(image_path)"
      ],
      "execution_count": null,
      "outputs": []
    },
    {
      "cell_type": "markdown",
      "metadata": {},
      "source": [
        "---\n",
        "\n",
        "### Check if the Image Was Successfully Loaded and Display It\n",
        "\n",
        "*Here, we check whether the image was successfully loaded by verifying that `image` is not `None`. If the image is loaded, we display it using `cv2_imshow()`, which is a function provided by Google Colab to display images in the notebook environment. If the image is not loaded, an error message is printed to inform the user.*"
      ]
    },
    {
      "cell_type": "code",
      "metadata": {},
      "source": [
        "# Check if the image was successfully loaded\n",
        "if image is not None:\n",
        "    # Display the image\n",
        "    cv2_imshow(image)\n",
        "else:\n",
        "    print(\"Error: Unable to load image.\")"
      ],
      "execution_count": null,
      "outputs": []
    },
    {
      "cell_type": "markdown",
      "metadata": {},
      "source": [
        "---\n",
        "\n",
        "### Import Additional Libraries for Plotting\n",
        "\n",
        "*We import additional libraries required for plotting and enhancing the image visualization. OpenCV (`cv2`) is re-imported for consistency, Matplotlib's `pyplot` module (`plt`) is used for plotting images, and Seaborn (`sns`) is used to improve the aesthetics of the plots.*"
      ]
    },
    {
      "cell_type": "code",
      "metadata": {},
      "source": [
        "import cv2\n",
        "import matplotlib.pyplot as plt\n",
        "import seaborn as sns"
      ],
      "execution_count": null,
      "outputs": []
    },
    {
      "cell_type": "markdown",
      "metadata": {},
      "source": [
        "---\n",
        "\n",
        "### Read the Image and Convert Color Scheme from BGR to RGB\n",
        "\n",
        "*We read the image again using OpenCV's `cv2.imread()` function. OpenCV reads images in BGR (Blue, Green, Red) color format by default, which can cause colors to appear incorrectly when displayed using Matplotlib (which expects RGB format). To correct this, we convert the image from BGR to RGB using `cv2.cvtColor()`.*"
      ]
    },
    {
      "cell_type": "code",
      "metadata": {},
      "source": [
        "# Read the image using OpenCV\n",
        "image_path = '/content/osm-cca-cv/res/img/image_prefix-000.png'  # Replace with your image path\n",
        "image = cv2.imread(image_path)\n",
        "\n",
        "# Convert the color scheme from BGR to RGB\n",
        "image_rgb = cv2.cvtColor(image, cv2.COLOR_BGR2RGB)"
      ],
      "execution_count": null,
      "outputs": []
    },
    {
      "cell_type": "markdown",
      "metadata": {},
      "source": [
        "---\n",
        "\n",
        "### Apply Seaborn Styles and Display the Image Using Matplotlib\n",
        "\n",
        "*We apply Seaborn's default styling using `sns.set()` to enhance the plot's aesthetics. Then, we display the image using Matplotlib's `plt.imshow()`, which renders the image data in the notebook. We hide the axes using `plt.axis('off')` for a cleaner look and finally call `plt.show()` to display the image.*"
      ]
    },
    {
      "cell_type": "code",
      "metadata": {},
      "source": [
        "# Use Seaborn to improve plot aesthetics\n",
        "sns.set()  # Apply Seaborn styles\n",
        "\n",
        "# Display the image\n",
        "plt.imshow(image_rgb)\n",
        "plt.axis('off')  # Hide the axis\n",
        "plt.show()"
      ],
      "execution_count": null,
      "outputs": []
    },
    {
      "cell_type": "markdown",
      "metadata": {},
      "source": [
        "---\n",
        "\n",
        "**Summary:**\n",
        "\n",
        "- **First**, we imported the necessary libraries for image processing and display, and loaded an image using OpenCV.\n",
        "- **Second**, we checked if the image was successfully loaded and displayed it using `cv2_imshow()` in Google Colab.\n",
        "- **Third**, we imported additional libraries for plotting and visualization.\n",
        "- **Fourth**, we read the image again and converted its color space from BGR to RGB to ensure correct color representation in Matplotlib.\n",
        "- **Finally**, we applied Seaborn styles for better aesthetics and displayed the image using Matplotlib, hiding the axes for a cleaner presentation.\n",
        "\n",
        "This code demonstrates how to read and display images using OpenCV and Matplotlib in a Jupyter or Google Colab notebook, addressing color space differences between libraries and enhancing the visualization with Seaborn styles.\n",
        "\n",
        "## describe images"
      ]
    },
    {
      "cell_type": "code",
      "metadata": {
        "colab": {
          "base_uri": "https://localhost:8080/",
          "height": 206
        }
      },
      "source": [
        "import os\n",
        "import cv2\n",
        "import pandas as pd\n",
        "\n",
        "# Path to the directory containing images\n",
        "directory = '/content/osm-cca-cv/res/img'  # Replace with your directory path\n",
        "\n",
        "# Initialize a list to store image data\n",
        "image_data = []\n",
        "\n",
        "# Iterate through each file in the directory\n",
        "for filename in os.listdir(directory):\n",
        "    if filename.lower().endswith(('.png', '.jpg', '.jpeg')):  # Add other image formats if needed\n",
        "        # Read the image\n",
        "        img_path = os.path.join(directory, filename)\n",
        "        img = cv2.imread(img_path)\n",
        "\n",
        "        # Extract image dimensions and channels\n",
        "        height, width, channels = img.shape\n",
        "\n",
        "        # Append the data to the list\n",
        "        image_data.append({'Filename': filename, 'Width': width, 'Height': height, 'Channels': channels})\n",
        "\n",
        "# Create a DataFrame from the image data\n",
        "image_df = pd.DataFrame(image_data)\n",
        "\n",
        "# Display the DataFrame\n",
        "image_df.head()"
      ],
      "execution_count": null,
      "outputs": []
    },
    {
      "cell_type": "markdown",
      "metadata": {},
      "source": [
        "## manipulate images"
      ]
    },
    {
      "cell_type": "code",
      "metadata": {},
      "source": [
        "from PIL import Image\n",
        "import numpy as np\n",
        "import matplotlib.pyplot as plt\n",
        "import requests\n",
        "from io import BytesIO\n",
        "\n",
        "# Step 1: Load a sample RGB image\n",
        "# You can use any image URL or local image file. Here, we'll use an image from the web.\n",
        "image_url = 'https://raw.githubusercontent.com/cca-cce/osm-cca-cv/0a62207580cf63bc808ec825669af8d6f2eedf16/res/img/image_prefix-000.png'\n",
        "response = requests.get(image_url)\n",
        "image = Image.open(BytesIO(response.content))\n",
        "\n",
        "# Ensure the image is in RGB mode\n",
        "image = image.convert('RGB')\n",
        "\n",
        "# Optionally resize the image for easier processing\n",
        "image = image.resize((200, 200))\n",
        "\n",
        "# Step 2: Convert the image to a NumPy array\n",
        "image_np = np.array(image)\n",
        "\n",
        "# Step 3: Manipulate the bottom right quarter to increase green colors\n",
        "height, width, _ = image_np.shape\n",
        "start_x = width // 2\n",
        "start_y = height // 2\n",
        "\n",
        "# Increase the green channel by 100 (ensure values stay within 0-255)\n",
        "image_np[start_y:, start_x:, 1] = np.clip(image_np[start_y:, start_x:, 1] + 100, 0, 255)\n",
        "\n",
        "# Step 4: Convert the NumPy array back to a PIL Image\n",
        "modified_image = Image.fromarray(image_np.astype('uint8'), 'RGB')\n",
        "\n",
        "# Step 5: Display the image in a Google Colab notebook\n",
        "plt.imshow(modified_image)\n",
        "plt.axis('off')\n",
        "plt.show()"
      ],
      "execution_count": null,
      "outputs": []
    },
    {
      "cell_type": "markdown",
      "metadata": {},
      "source": [
        "**Explanation:**\n",
        "\n",
        "- **Loading the Image:** We load a sample image from a URL using the `requests` library and `Image.open`. The image is converted to RGB mode to ensure it has three color channels.\n",
        "  \n",
        "- **Converting to NumPy Array:** The image is converted to a NumPy array to allow pixel-level manipulation.\n",
        "  \n",
        "- **Manipulating the Image:**\n",
        "  - We calculate the starting indices for the bottom right quarter.\n",
        "  - We increase the green color channel (`image_np[..., 1]`) by 100 in the bottom right quarter.\n",
        "  - `np.clip` ensures that the pixel values stay within the valid range of 0 to 255.\n",
        "  \n",
        "- **Displaying the Image:** The modified image is displayed using `matplotlib.pyplot` in the Google Colab notebook.\n",
        "\n",
        "**Note:** This code should be run in a Google Colab notebook to display the image inline. If you're not using Colab, ensure that your environment supports image display in notebooks.\n",
        "\n",
        "**Dependencies:**\n",
        "\n",
        "- Make sure to install the required libraries if they are not already installed:\n",
        "\n",
        "  ```bash\n",
        "  !pip install Pillow numpy matplotlib requests\n",
        "  ```\n",
        "\n",
        "**Sample Output:**\n",
        "\n",
        "The code will display the original image with the bottom right quarter appearing greener due to the increased green color channel.\n",
        "\n",
        "## image features\n",
        "\n",
        "### Import Libraries and Read the Image\n",
        "\n",
        "*In this step, we import the required libraries for image processing and visualization: OpenCV (`cv2`) for image operations, NumPy (`np`) for numerical computations, Matplotlib's `pyplot` module (`plt`) for plotting, and Seaborn (`sns`) for enhancing plot aesthetics. We then read the image from the specified path using `cv2.imread()`. The image is loaded into a NumPy array in BGR (Blue, Green, Red) format.*"
      ]
    },
    {
      "cell_type": "code",
      "metadata": {},
      "source": [
        "\"\"\"# image features\"\"\"\n",
        "\n",
        "import cv2\n",
        "import numpy as np\n",
        "import matplotlib.pyplot as plt\n",
        "import seaborn as sns\n",
        "\n",
        "# Read the image\n",
        "image = cv2.imread('/content/osm-cca-cv/res/img/image_prefix-000.png')"
      ],
      "execution_count": null,
      "outputs": []
    },
    {
      "cell_type": "markdown",
      "metadata": {},
      "source": [
        "---\n",
        "\n",
        "### Calculate and Normalize Color Histograms\n",
        "\n",
        "*Here, we calculate the color histograms for each of the three color channels (Blue, Green, Red) using OpenCV's `calcHist()` function. This function computes the frequency of each pixel intensity value (ranging from 0 to 255) for the specified channel. We then normalize each histogram by dividing it by its total sum to obtain a probability distribution, which allows for comparison between histograms regardless of the image size.*"
      ]
    },
    {
      "cell_type": "code",
      "metadata": {},
      "source": [
        "# Calculate color histograms for each channel\n",
        "hist_r = cv2.calcHist([image], [0], None, [256], [0, 256])\n",
        "hist_g = cv2.calcHist([image], [1], None, [256], [0, 256])\n",
        "hist_b = cv2.calcHist([image], [2], None, [256], [0, 256])\n",
        "\n",
        "# Normalize histograms\n",
        "hist_r /= hist_r.sum()\n",
        "hist_g /= hist_g.sum()\n",
        "hist_b /= hist_b.sum()"
      ],
      "execution_count": null,
      "outputs": []
    },
    {
      "cell_type": "markdown",
      "metadata": {},
      "source": [
        "---\n",
        "\n",
        "### Plot the Original Image and Color Histograms\n",
        "\n",
        "*We set up a figure with two subplots using Matplotlib's `subplots()` function. The first subplot displays the original image, converting it from BGR to RGB color space using `cv2.cvtColor()` for correct color representation in Matplotlib. The second subplot displays the normalized color histograms for each channel using Seaborn's `lineplot()`. We customize the plot with titles, labels, and a legend, and finally display the plots using `plt.show()`.*"
      ]
    },
    {
      "cell_type": "code",
      "metadata": {},
      "source": [
        "# Create subplots for the original image and histograms\n",
        "fig, axes = plt.subplots(1, 2, figsize=(12, 4))\n",
        "\n",
        "# Plot the original image\n",
        "axes[0].imshow(cv2.cvtColor(image, cv2.COLOR_BGR2RGB))\n",
        "axes[0].set_title('Original Image')\n",
        "axes[0].axis('off')\n",
        "\n",
        "# Plot the color histograms using Seaborn\n",
        "sns.lineplot(x=np.arange(256), y=hist_r.squeeze(), color='red', ax=axes[1], label='Red')\n",
        "sns.lineplot(x=np.arange(256), y=hist_g.squeeze(), color='green', ax=axes[1], label='Green')\n",
        "sns.lineplot(x=np.arange(256), y=hist_b.squeeze(), color='blue', ax=axes[1], label='Blue')\n",
        "axes[1].set_title('Color Histograms')\n",
        "axes[1].set_xlabel('Pixel Value')\n",
        "axes[1].set_ylabel('Frequency')\n",
        "axes[1].legend()\n",
        "\n",
        "# Show the plots\n",
        "plt.tight_layout()\n",
        "plt.show()"
      ],
      "execution_count": null,
      "outputs": []
    },
    {
      "cell_type": "markdown",
      "metadata": {},
      "source": [
        "---\n",
        "\n",
        "### Import Libraries and Read the Image in Grayscale\n",
        "\n",
        "*We import the necessary libraries for edge detection: OpenCV (`cv2`) for image processing, NumPy (`np`) for numerical computations, and `cv2_imshow` from `google.colab.patches` to display images in Google Colab notebooks. We then read the image in grayscale mode using `cv2.imread()` with the `cv2.IMREAD_GRAYSCALE` flag, which simplifies the image data for edge detection algorithms.*"
      ]
    },
    {
      "cell_type": "code",
      "metadata": {},
      "source": [
        "import cv2\n",
        "import numpy as np\n",
        "from google.colab.patches import cv2_imshow\n",
        "\n",
        "# Read the image\n",
        "image = cv2.imread('/content/osm-cca-cv/res/img/image_prefix-000.png', cv2.IMREAD_GRAYSCALE)"
      ],
      "execution_count": null,
      "outputs": []
    },
    {
      "cell_type": "markdown",
      "metadata": {},
      "source": [
        "---\n",
        "\n",
        "### Define and Apply Edge Detection Methods\n",
        "\n",
        "*We define a list called `edge_detection_settings` that contains tuples of edge detection method names and their corresponding results. We apply different edge detection algorithms provided by OpenCV: Canny, Sobel X, and Sobel Y. The Canny edge detector is applied with threshold values of 50 and 150. The Sobel operators are applied to detect edges in the X and Y directions, respectively.*"
      ]
    },
    {
      "cell_type": "code",
      "metadata": {},
      "source": [
        "# Define edge detection settings\n",
        "edge_detection_settings = [\n",
        "    ('Canny', cv2.Canny(image, 50, 150)),\n",
        "    # ('Laplacian', cv2.Laplacian(image, cv2.CV_64F)),\n",
        "    ('Sobel_X', cv2.Sobel(image, cv2.CV_64F, 1, 0, ksize=5)),\n",
        "    ('Sobel_Y', cv2.Sobel(image, cv2.CV_64F, 0, 1, ksize=5))\n",
        "]"
      ],
      "execution_count": null,
      "outputs": []
    },
    {
      "cell_type": "markdown",
      "metadata": {},
      "source": [
        "---\n",
        "\n",
        "### Process and Display Edge Detection Results\n",
        "\n",
        "*We loop through each edge detection result in `edge_detection_settings`. For each method, we perform the following steps:*\n",
        "\n",
        "- *Convert the edge image to a binary image where edge pixels are set to 255 (white) and non-edge pixels to 0 (black) using NumPy's `where()` function.*\n",
        "- *Count the number of white edge pixels using OpenCV's `countNonZero()` function.*\n",
        "- *Concatenate the original grayscale image and the binary edge image horizontally using NumPy's `hstack()` function for side-by-side comparison.*\n",
        "- *Display the concatenated image using `cv2_imshow()` in Google Colab.*\n",
        "- *Print the name of the edge detection algorithm and the number of white edge pixels.*\n",
        "- *Save the concatenated image to a file with a filename that includes the edge detection method's name.*"
      ]
    },
    {
      "cell_type": "code",
      "metadata": {},
      "source": [
        "# Iterate through edge detection settings\n",
        "for setting_name, edges in edge_detection_settings:\n",
        "    # Convert the edges to binary (keeping them in 0-255 range)\n",
        "    edges_binary = np.where(edges > 0, 255, 0).astype(np.uint8)\n",
        "\n",
        "    # Count the number of white edge pixels\n",
        "    white_pixel_count = cv2.countNonZero(edges_binary)\n",
        "\n",
        "    # Concatenate the original image and binary edge image horizontally\n",
        "    concatenated_image = np.hstack((image, edges_binary))\n",
        "\n",
        "    # Display the concatenated image using cv2_imshow\n",
        "    print(f'Edge Detection Algorithm: {setting_name}')\n",
        "    cv2_imshow(concatenated_image)\n",
        "    print(f'Number of white edge pixels: {white_pixel_count}\\n')\n",
        "\n",
        "    # Save the concatenated image with the specified filename prefix\n",
        "    filename = f'edges_{setting_name}.jpg'\n",
        "    cv2.imwrite(filename, concatenated_image)\n",
        "\n",
        "    print(f'Saved as {filename}\\n')"
      ],
      "execution_count": null,
      "outputs": []
    },
    {
      "cell_type": "markdown",
      "metadata": {},
      "source": [
        "---\n",
        "\n",
        "**Summary:**\n",
        "\n",
        "- **First**, we imported the necessary libraries and read the image for color histogram analysis.\n",
        "- **Second**, we calculated and normalized the color histograms for the red, green, and blue channels.\n",
        "- **Third**, we plotted the original image alongside its color histograms using Matplotlib and Seaborn.\n",
        "- **Fourth**, we imported additional libraries for edge detection and read the image in grayscale mode.\n",
        "- **Fifth**, we defined various edge detection methods and applied them to the image.\n",
        "- **Finally**, we processed each edge detection result by converting edges to binary images, counting edge pixels, displaying the results, and saving the concatenated images.\n",
        "\n",
        "This code demonstrates how to perform basic image analysis tasks, such as calculating color histograms and performing edge detection, using OpenCV. It also shows how to visualize the results effectively using Matplotlib and Seaborn, ensuring that all code is kept intact and executable without breaking any loops or structures.\n"
      ]
    }
  ],
  "metadata": {
    "kernelspec": {
      "name": "python3",
      "language": "python",
      "display_name": "Python 3 (ipykernel)",
      "path": "/usr/local/share/jupyter/kernels/python3"
    }
  },
  "nbformat": 4,
  "nbformat_minor": 4
}